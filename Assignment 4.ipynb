{
 "cells": [
  {
   "cell_type": "markdown",
   "metadata": {},
   "source": [
    "Write a Python Program(with class concepts) to find the area of the triangle using the below formula, \n",
    "area = (s*(s-a)*(s-b)*(s-c)) ** 0.5.\n",
    "\n",
    "Function to take the length of the sides of triangle from user should be defined in the parent class and function to calculate the area should be defined in subclass."
   ]
  },
  {
   "cell_type": "code",
   "execution_count": 2,
   "metadata": {},
   "outputs": [
    {
     "data": {
      "text/plain": [
       "4.21875"
      ]
     },
     "execution_count": 2,
     "metadata": {},
     "output_type": "execute_result"
    }
   ],
   "source": [
    "class A:\n",
    "    def __init__(self,a,b,c):\n",
    "        self.a=a\n",
    "        self.b=b\n",
    "        self.c=c\n",
    "    \n",
    "        \n",
    "class B(A):\n",
    "    def __init__(self,a,b,c):\n",
    "        A.__init__(self,a,b,c)\n",
    "        \n",
    "    def svalue(self):\n",
    "            s = (self.a+self.b+self.c)/2\n",
    "            area = (s*(s-self.a)*(s-self.b)*(s-self.c))*0.5\n",
    "            return area\n",
    "        \n",
    "p = B(2,3,4)\n",
    "p.svalue()\n",
    "\n"
   ]
  },
  {
   "cell_type": "markdown",
   "metadata": {},
   "source": [
    "1.2 Write a function filter_long_words() that takes a list of words and an integer n and returns\n",
    "the list of words that are longer than n."
   ]
  },
  {
   "cell_type": "code",
   "execution_count": 1,
   "metadata": {},
   "outputs": [
    {
     "name": "stdout",
     "output_type": "stream",
     "text": [
      "Please enter the number - 3\n",
      "['this', 'list', 'words']\n"
     ]
    }
   ],
   "source": [
    "wordlist=[\"this\",\"is\",\"the\",\"list\",\"of\",\"words\"]\n",
    "outputlist=[]\n",
    "userinput = input(\"Please enter the number - \")\n",
    "length = int(userinput)\n",
    "\n",
    "def filter_long_word(wordlist,length):\n",
    "    for x in wordlist:\n",
    "        y=len(x)\n",
    "        if y>length:\n",
    "            outputlist.append(x)\n",
    "    \n",
    "    print(outputlist)\n",
    "    \n",
    "filter_long_word(wordlist,length)"
   ]
  },
  {
   "cell_type": "markdown",
   "metadata": {},
   "source": [
    "2.1 Write a Python program using function concept that maps list of words into a list of integers\n",
    "representing the lengths of the corresponding words.\n",
    "\n",
    "Hint: If a list [ab,cde,erty] is passed on to the python function output should come as [2,3,4]\n",
    "Here 2,3 and 4 are the lengths of the words in the list."
   ]
  },
  {
   "cell_type": "code",
   "execution_count": 2,
   "metadata": {},
   "outputs": [
    {
     "name": "stdout",
     "output_type": "stream",
     "text": [
      "[2, 3, 4]\n"
     ]
    }
   ],
   "source": [
    "s=[\"ab\",\"cde\",\"fghi\"]\n",
    "numlist=[]\n",
    "def wordlength(s):\n",
    "    for x in s:\n",
    "        y=len(x)\n",
    "        numlist.append(y)\n",
    "    print(numlist)\n",
    "        \n",
    "wordlength(s)"
   ]
  },
  {
   "cell_type": "markdown",
   "metadata": {},
   "source": [
    "2.2 Write a Python function which takes a character (i.e. a string of length 1) and returns True if it is a vowel, False otherwise."
   ]
  },
  {
   "cell_type": "code",
   "execution_count": 9,
   "metadata": {},
   "outputs": [
    {
     "name": "stdout",
     "output_type": "stream",
     "text": [
      "please enter the letter you want to check - k\n",
      "False\n"
     ]
    }
   ],
   "source": [
    "def checkvowel(userinput):\n",
    "    x=['a','e','i','o','u']\n",
    "    if userinput in x:\n",
    "        print(\"True\")\n",
    "    else:\n",
    "        print(\"False\")\n",
    "        \n",
    "userinput = input(\"please enter the letter you want to check - \")\n",
    "        \n",
    "checkvowel(userinput)"
   ]
  },
  {
   "cell_type": "code",
   "execution_count": null,
   "metadata": {},
   "outputs": [],
   "source": []
  }
 ],
 "metadata": {
  "kernelspec": {
   "display_name": "Python 3",
   "language": "python",
   "name": "python3"
  },
  "language_info": {
   "codemirror_mode": {
    "name": "ipython",
    "version": 3
   },
   "file_extension": ".py",
   "mimetype": "text/x-python",
   "name": "python",
   "nbconvert_exporter": "python",
   "pygments_lexer": "ipython3",
   "version": "3.7.4"
  }
 },
 "nbformat": 4,
 "nbformat_minor": 2
}
